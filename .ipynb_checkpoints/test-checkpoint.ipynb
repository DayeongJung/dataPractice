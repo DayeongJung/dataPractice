{
 "cells": [
  {
   "cell_type": "markdown",
   "id": "0012b7a2-5a10-4eac-b600-b16c8544fcdc",
   "metadata": {},
   "source": [
    "## dddd"
   ]
  },
  {
   "cell_type": "markdown",
   "id": "6b4326be-f306-4e8d-bdc8-5bc6ca6f218d",
   "metadata": {},
   "source": [
    "#### cccc"
   ]
  },
  {
   "cell_type": "code",
   "execution_count": null,
   "id": "ee54e7b4-28f2-45e6-884b-7732b11cb05c",
   "metadata": {},
   "outputs": [],
   "source": []
  }
 ],
 "metadata": {
  "kernelspec": {
   "display_name": "Python 3 (ipykernel)",
   "language": "python",
   "name": "python3"
  },
  "language_info": {
   "codemirror_mode": {
    "name": "ipython",
    "version": 3
   },
   "file_extension": ".py",
   "mimetype": "text/x-python",
   "name": "python",
   "nbconvert_exporter": "python",
   "pygments_lexer": "ipython3",
   "version": "3.11.5"
  }
 },
 "nbformat": 4,
 "nbformat_minor": 5
}
