{
 "cells": [
  {
   "cell_type": "code",
   "execution_count": 16,
   "id": "50f98406-2ed5-43b7-91df-1dd94d9613d6",
   "metadata": {
    "tags": []
   },
   "outputs": [],
   "source": [
    "import pandas as pd"
   ]
  },
  {
   "cell_type": "code",
   "execution_count": 21,
   "id": "0117f79a-a079-4342-bdcf-09b00a072116",
   "metadata": {
    "tags": []
   },
   "outputs": [],
   "source": [
    "df=pd.read_csv('유가증권_투자자별_거래실적_20240405154655.csv')"
   ]
  },
  {
   "cell_type": "code",
   "execution_count": 22,
   "id": "19824d71-896b-4b45-8bcb-d368f939abc1",
   "metadata": {},
   "outputs": [
    {
     "name": "stdout",
     "output_type": "stream",
     "text": [
      "<class 'pandas.core.frame.DataFrame'>\n",
      "RangeIndex: 78 entries, 0 to 77\n",
      "Data columns (total 9 columns):\n",
      " #   Column    Non-Null Count  Dtype \n",
      "---  ------    --------------  ----- \n",
      " 0   거래구분별(1)  78 non-null     object\n",
      " 1   투자자별(1)   78 non-null     object\n",
      " 2   투자자별(2)   78 non-null     object\n",
      " 3   2023.09   78 non-null     int64 \n",
      " 4   2023.10   78 non-null     int64 \n",
      " 5   2023.11   78 non-null     int64 \n",
      " 6   2023.12   78 non-null     int64 \n",
      " 7   2024.01   78 non-null     int64 \n",
      " 8   2024.02   78 non-null     int64 \n",
      "dtypes: int64(6), object(3)\n",
      "memory usage: 5.6+ KB\n"
     ]
    }
   ],
   "source": [
    "df.info()"
   ]
  },
  {
   "cell_type": "code",
   "execution_count": 23,
   "id": "b94c76e6-2a6e-45c4-a35b-5977b6eda0bb",
   "metadata": {
    "tags": []
   },
   "outputs": [
    {
     "data": {
      "text/html": [
       "<div>\n",
       "<style scoped>\n",
       "    .dataframe tbody tr th:only-of-type {\n",
       "        vertical-align: middle;\n",
       "    }\n",
       "\n",
       "    .dataframe tbody tr th {\n",
       "        vertical-align: top;\n",
       "    }\n",
       "\n",
       "    .dataframe thead th {\n",
       "        text-align: right;\n",
       "    }\n",
       "</style>\n",
       "<table border=\"1\" class=\"dataframe\">\n",
       "  <thead>\n",
       "    <tr style=\"text-align: right;\">\n",
       "      <th></th>\n",
       "      <th>거래구분별(1)</th>\n",
       "      <th>투자자별(1)</th>\n",
       "      <th>투자자별(2)</th>\n",
       "      <th>2023.09</th>\n",
       "      <th>2023.10</th>\n",
       "      <th>2023.11</th>\n",
       "      <th>2023.12</th>\n",
       "      <th>2024.01</th>\n",
       "      <th>2024.02</th>\n",
       "    </tr>\n",
       "  </thead>\n",
       "  <tbody>\n",
       "    <tr>\n",
       "      <th>0</th>\n",
       "      <td>거래량</td>\n",
       "      <td>총거래량</td>\n",
       "      <td>매도 (천주)</td>\n",
       "      <td>7811491</td>\n",
       "      <td>9781368</td>\n",
       "      <td>9185594</td>\n",
       "      <td>8540895</td>\n",
       "      <td>12212551</td>\n",
       "      <td>10029663</td>\n",
       "    </tr>\n",
       "    <tr>\n",
       "      <th>1</th>\n",
       "      <td>거래량</td>\n",
       "      <td>총거래량</td>\n",
       "      <td>매수 (천주)</td>\n",
       "      <td>7811491</td>\n",
       "      <td>9781368</td>\n",
       "      <td>9185594</td>\n",
       "      <td>8540895</td>\n",
       "      <td>12212551</td>\n",
       "      <td>10029663</td>\n",
       "    </tr>\n",
       "    <tr>\n",
       "      <th>2</th>\n",
       "      <td>거래량</td>\n",
       "      <td>총거래량</td>\n",
       "      <td>순매수 (천주)</td>\n",
       "      <td>0</td>\n",
       "      <td>0</td>\n",
       "      <td>0</td>\n",
       "      <td>0</td>\n",
       "      <td>0</td>\n",
       "      <td>0</td>\n",
       "    </tr>\n",
       "    <tr>\n",
       "      <th>3</th>\n",
       "      <td>거래량</td>\n",
       "      <td>금융투자</td>\n",
       "      <td>매도 (천주)</td>\n",
       "      <td>214419</td>\n",
       "      <td>222679</td>\n",
       "      <td>168465</td>\n",
       "      <td>153914</td>\n",
       "      <td>268647</td>\n",
       "      <td>228553</td>\n",
       "    </tr>\n",
       "    <tr>\n",
       "      <th>4</th>\n",
       "      <td>거래량</td>\n",
       "      <td>금융투자</td>\n",
       "      <td>매수 (천주)</td>\n",
       "      <td>235317</td>\n",
       "      <td>245261</td>\n",
       "      <td>237412</td>\n",
       "      <td>231306</td>\n",
       "      <td>240371</td>\n",
       "      <td>272371</td>\n",
       "    </tr>\n",
       "  </tbody>\n",
       "</table>\n",
       "</div>"
      ],
      "text/plain": [
       "  거래구분별(1) 투자자별(1)   투자자별(2)  2023.09  2023.10  2023.11  2023.12   2024.01  \\\n",
       "0      거래량    총거래량   매도 (천주)  7811491  9781368  9185594  8540895  12212551   \n",
       "1      거래량    총거래량   매수 (천주)  7811491  9781368  9185594  8540895  12212551   \n",
       "2      거래량    총거래량  순매수 (천주)        0        0        0        0         0   \n",
       "3      거래량    금융투자   매도 (천주)   214419   222679   168465   153914    268647   \n",
       "4      거래량    금융투자   매수 (천주)   235317   245261   237412   231306    240371   \n",
       "\n",
       "    2024.02  \n",
       "0  10029663  \n",
       "1  10029663  \n",
       "2         0  \n",
       "3    228553  \n",
       "4    272371  "
      ]
     },
     "execution_count": 23,
     "metadata": {},
     "output_type": "execute_result"
    }
   ],
   "source": [
    "df.head()"
   ]
  },
  {
   "cell_type": "code",
   "execution_count": null,
   "id": "da2ed958-2a84-47e0-8c9c-892521a6f37d",
   "metadata": {},
   "outputs": [],
   "source": []
  }
 ],
 "metadata": {
  "kernelspec": {
   "display_name": "Python 3 (ipykernel)",
   "language": "python",
   "name": "python3"
  },
  "language_info": {
   "codemirror_mode": {
    "name": "ipython",
    "version": 3
   },
   "file_extension": ".py",
   "mimetype": "text/x-python",
   "name": "python",
   "nbconvert_exporter": "python",
   "pygments_lexer": "ipython3",
   "version": "3.11.5"
  }
 },
 "nbformat": 4,
 "nbformat_minor": 5
}
